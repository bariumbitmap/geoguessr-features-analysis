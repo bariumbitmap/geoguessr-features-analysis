{
 "cells": [
  {
   "cell_type": "code",
   "execution_count": null,
   "id": "40ac8d00",
   "metadata": {},
   "outputs": [],
   "source": [
    "from datetime import datetime\n",
    "import numpy as np\n",
    "import pandas as pd\n",
    "import matplotlib\n",
    "import matplotlib.pyplot as plt\n",
    "from mpl_toolkits.basemap import Basemap\n",
    "%matplotlib inline"
   ]
  },
  {
   "cell_type": "code",
   "execution_count": null,
   "id": "16b13a82",
   "metadata": {},
   "outputs": [],
   "source": [
    "def reduce_identical_vals_list(l, array=False):\n",
    "    first = l[0]\n",
    "    if not array:\n",
    "        all_same = all(first == x for x in l)\n",
    "    else:\n",
    "        all_same = all([np.array_equal(x, first) for x in l])\n",
    "    if all_same == True:\n",
    "        return first\n",
    "    else:\n",
    "        raise ValueError(\"list has disparate values\")\n"
   ]
  },
  {
   "cell_type": "code",
   "execution_count": null,
   "id": "9c65e65d",
   "metadata": {},
   "outputs": [],
   "source": [
    "filepath = \"ACW_rounds.tsv\"\n",
    "df = pd.read_csv(filepath, sep='\\t')"
   ]
  },
  {
   "cell_type": "code",
   "execution_count": null,
   "id": "c2ac2026",
   "metadata": {},
   "outputs": [],
   "source": [
    "for i, key in enumerate(df.keys()):\n",
    "    print(i, key)"
   ]
  },
  {
   "cell_type": "code",
   "execution_count": null,
   "id": "a80c9153",
   "metadata": {},
   "outputs": [],
   "source": [
    "keys_yes_no = ['Discernible solar azimuth?', 'Discernible shadow direction?', 'Rift(s)?', 'Discernible Google car/blur?', 'Discernible camera generation?', 'Other motor vehicle(s)?', 'License plate(s)?', 'Discernible driving side?', 'Road direction?', 'Curb(s)?', 'Visible road markings?',  'Utility poles?', 'Bollards / delineator posts?', 'Chevron sign(s)?', 'Object marker sign(s)?', 'Stop sign front?', 'Sign fronts?', 'Sign backs?', 'Guardrail(s)?', 'Fire hydrant?', 'Fence(s)?', 'Readable domain name(s)?', 'Area code(s)?', 'Flag(s)?', 'Trees/ grass/ vegetation?', 'Hills/ mountains?', 'Dirt/ soil?', 'Water?', 'Snow?', 'Buildings/ roofs?', 'Wall(s)?', 'Person(s)?', 'Animal(s)?', 'Writing?', 'Copyright watermark?']"
   ]
  },
  {
   "cell_type": "code",
   "execution_count": null,
   "id": "ad0fc3ce",
   "metadata": {},
   "outputs": [],
   "source": [
    "vals_yes_no = {}\n",
    "for key in keys_yes_no:\n",
    "    val = df[key]\n",
    "    if not set(val).issubset({'yes', 'no'}):\n",
    "        print(\"Warning: '{}' has vals '{}'\".format(key, set(val)))\n",
    "    vals_yes_no[key] = val.value_counts()"
   ]
  },
  {
   "cell_type": "code",
   "execution_count": null,
   "id": "06a94f38",
   "metadata": {},
   "outputs": [],
   "source": [
    "vals_yes_no"
   ]
  },
  {
   "cell_type": "code",
   "execution_count": null,
   "id": "70a27916",
   "metadata": {},
   "outputs": [],
   "source": [
    "other_keys = ['Driving side', 'Copyright year', 'Outer road line(s)', 'Center road line (s)', 'Camera']\n",
    "leftover_keys = set(df.keys()) - (set.union(set(keys_yes_no), set(other_keys)))\n",
    "print(leftover_keys)"
   ]
  },
  {
   "cell_type": "code",
   "execution_count": null,
   "id": "0adf1f6b",
   "metadata": {},
   "outputs": [],
   "source": [
    "percent_yes_dict = {}\n",
    "n_rounds_list = []\n",
    "for key, val in vals_yes_no.items():\n",
    "    if not set(df[key]).issubset({'yes', 'no'}):\n",
    "        print(\"Skipping: '{}', has vals '{}'\".format(key, set(df[key])))\n",
    "        continue\n",
    "    this_percent = val['yes']/val.sum()\n",
    "    n_rounds_list.append(val.sum())\n",
    "    percent_yes_dict[key] = this_percent\n",
    "percent_yes = pd.DataFrame({'Feature': percent_yes_dict.keys(), \"Percent\": percent_yes_dict.values()})"
   ]
  },
  {
   "cell_type": "code",
   "execution_count": null,
   "id": "863a2c08",
   "metadata": {},
   "outputs": [],
   "source": [
    "n_rounds = reduce_identical_vals_list(n_rounds_list)"
   ]
  },
  {
   "cell_type": "code",
   "execution_count": null,
   "id": "6b071c25",
   "metadata": {},
   "outputs": [],
   "source": [
    "percent_yes.sort_values('Percent', ascending=False)"
   ]
  },
  {
   "cell_type": "code",
   "execution_count": null,
   "id": "f3e49931",
   "metadata": {},
   "outputs": [],
   "source": [
    "features_list_sort = []\n",
    "percent_list_sort = []\n",
    "skip_list = ['Object marker sign(s)?']\n",
    "for val in skip_list:\n",
    "    if val not in percent_yes_dict:\n",
    "        raise ValueError(val)\n",
    "for i, (key, val) in enumerate(sorted(percent_yes_dict.items(), key=lambda x: x[1], reverse=True)):\n",
    "    if key in skip_list:\n",
    "        continue\n",
    "    print(\"{}\\t{}\\t{:2.0%}\".format(i, key, val))\n",
    "    features_list_sort.append(\"{}. {}\".format(i+1, key))\n",
    "    percent_list_sort.append(val)\n",
    "features_list_sort = list(reversed(features_list_sort))\n",
    "percent_list_sort = list(reversed(percent_list_sort))\n",
    "percent_sort = np.array(percent_list_sort)"
   ]
  },
  {
   "cell_type": "code",
   "execution_count": null,
   "id": "eb120770",
   "metadata": {},
   "outputs": [],
   "source": [
    "fig, ax = plt.subplots(constrained_layout=True, figsize=(6.4, 4.8*2))\n",
    "bars = ax.barh(features_list_sort, percent_sort*100, color='black')\n",
    "ax.bar_label(bars, fmt='%.0f%%', label_type='edge', color='black', fontsize=14);\n",
    "ax.set_title(\"Features in {} rounds of A Community World\".format(n_rounds), fontsize=20, y=1.0, pad=-20, x=-0.12)\n",
    "for label in ax.get_yticklabels():\n",
    "    label.set_fontsize(14)\n",
    "ax.set_xticklabels([]);\n",
    "ax.set_xticks([])\n",
    "ax.set_frame_on(False);"
   ]
  },
  {
   "cell_type": "code",
   "execution_count": null,
   "id": "d5e0561f",
   "metadata": {},
   "outputs": [],
   "source": [
    "fig.canvas.draw();"
   ]
  },
  {
   "cell_type": "code",
   "execution_count": null,
   "id": "95b9b59e",
   "metadata": {},
   "outputs": [],
   "source": [
    "fig.savefig(\n",
    "    \"features_percentage_barchart.png\",\n",
    "    bbox_inches='tight',\n",
    "    dpi=200,\n",
    "    facecolor=\"w\", # white background\n",
    ");\n",
    "fig.savefig(\n",
    "    \"features_percentage_barchart.pdf\",\n",
    "    bbox_inches='tight',\n",
    "    dpi=200,\n",
    "    facecolor=\"w\", # white background\n",
    ");"
   ]
  },
  {
   "cell_type": "code",
   "execution_count": null,
   "id": "7f22edb6",
   "metadata": {},
   "outputs": [],
   "source": [
    "plt.close(fig); del fig, ax;"
   ]
  },
  {
   "cell_type": "code",
   "execution_count": null,
   "id": "992e001e",
   "metadata": {},
   "outputs": [],
   "source": [
    "latitude_l = []\n",
    "longitude_l = []\n",
    "for coord_str, hemisphere in zip(df['Coordinates'], df['Hemisphere']):\n",
    "    try:\n",
    "        latitude_str, longitude_str = coord_str.split(',')\n",
    "    except:\n",
    "        print(\"Coordinates: '{}'\".format(coord_str))\n",
    "        raise\n",
    "    this_latitude = float(latitude_str)\n",
    "    latitude_l.append(this_latitude)\n",
    "    this_longitude = float(longitude_str)\n",
    "    longitude_l.append(this_longitude)\n",
    "    if hemisphere == 'Northern':\n",
    "        assert this_latitude > 0\n",
    "    elif hemisphere == 'Southern':\n",
    "        assert this_latitude < 0\n",
    "    else:\n",
    "        raise ValueError\n",
    "latitude = np.array(latitude_l)\n",
    "longitude = np.array(longitude_l)"
   ]
  },
  {
   "cell_type": "code",
   "execution_count": null,
   "id": "822907bb",
   "metadata": {},
   "outputs": [],
   "source": [
    "azimuth_count = {\n",
    "    'match': 0,\n",
    "    'mismatch': 0,\n",
    "    'indeterminate': 0,\n",
    "    'total': 0,\n",
    "}\n",
    "match_status = np.nan*np.zeros(len(df['Coordinates']))\n",
    "for i, (hemisphere, azimuth, coord_str) in enumerate(zip(df['Hemisphere'], df['Solar azimuth N/S'], df['Coordinates'])):\n",
    "    if azimuth == 'north':\n",
    "        if hemisphere == 'Southern':\n",
    "            azimuth_count['match'] += 1\n",
    "            match_status[i] = 1\n",
    "        elif hemisphere == 'Northern':\n",
    "            azimuth_count['mismatch'] += 1\n",
    "            match_status[i] = -1\n",
    "        else:\n",
    "            raise ValueError(hemisphere)\n",
    "    elif azimuth == 'south':\n",
    "        if hemisphere == 'Northern':\n",
    "            azimuth_count['match'] += 1\n",
    "            match_status[i] = 1\n",
    "        elif hemisphere == 'Southern':\n",
    "            azimuth_count['mismatch'] += 1\n",
    "            match_status[i] = -1\n",
    "    elif azimuth == '?':\n",
    "        azimuth_count['indeterminate'] += 1\n",
    "        match_status[i] = 0\n",
    "    else:\n",
    "        raise ValueError(azimuth)\n",
    "    azimuth_count['total'] += 1"
   ]
  },
  {
   "cell_type": "code",
   "execution_count": null,
   "id": "42152b38",
   "metadata": {},
   "outputs": [],
   "source": [
    "azimuth_count"
   ]
  },
  {
   "cell_type": "code",
   "execution_count": null,
   "id": "7691f7d0",
   "metadata": {},
   "outputs": [],
   "source": [
    "azimuth_percent_dict = {\n",
    "    'match': azimuth_count['match']/azimuth_count['total'],\n",
    "    'mismatch': azimuth_count['mismatch']/azimuth_count['total'],\n",
    "    'indeterminate': azimuth_count['indeterminate']/azimuth_count['total'],\n",
    "}\n",
    "azimuth_percent_vals = np.array(list(azimuth_percent_dict.values()))"
   ]
  },
  {
   "cell_type": "code",
   "execution_count": null,
   "id": "621d697d",
   "metadata": {},
   "outputs": [],
   "source": [
    "azimuth_percent_vals"
   ]
  },
  {
   "cell_type": "code",
   "execution_count": null,
   "id": "93998f81",
   "metadata": {},
   "outputs": [],
   "source": [
    "fig, ax = plt.subplots(constrained_layout=True, figsize=(6.4*0.7, 4.8*0.7))\n",
    "bars = ax.barh(list(azimuth_percent_dict.keys()), azimuth_percent_vals*100, color=['tab:green', 'tab:orange', 'gray'])\n",
    "ax.bar_label(bars, fmt='%.0f%%', label_type='edge', color='black', fontsize=14);\n",
    "fig.suptitle(\"Using sun to guess hemisphere\", fontsize=20)\n",
    "ax.set_title(\"For {} rounds of A Community World\".format(n_rounds))\n",
    "for label in ax.get_yticklabels():\n",
    "    label.set_fontsize(14)\n",
    "ax.set_xticklabels([]);\n",
    "ax.set_xticks([])\n",
    "ax.set_frame_on(False);"
   ]
  },
  {
   "cell_type": "code",
   "execution_count": null,
   "id": "d35d17d4",
   "metadata": {},
   "outputs": [],
   "source": [
    "fig.canvas.draw();"
   ]
  },
  {
   "cell_type": "code",
   "execution_count": null,
   "id": "5433e632",
   "metadata": {},
   "outputs": [],
   "source": [
    "fig.savefig(\n",
    "    \"sun_hemisphere_barchart.png\",\n",
    "    bbox_inches='tight',\n",
    "    dpi=200,\n",
    "    facecolor=\"w\", # white background\n",
    ");\n",
    "fig.savefig(\n",
    "    \"sun_hemisphere_barchart.pdf\",\n",
    "    bbox_inches='tight',\n",
    "    dpi=200,\n",
    "    facecolor=\"w\", # white background\n",
    ");"
   ]
  },
  {
   "cell_type": "code",
   "execution_count": null,
   "id": "37f7f60d",
   "metadata": {},
   "outputs": [],
   "source": [
    "plt.close(fig); del fig, ax;"
   ]
  },
  {
   "cell_type": "code",
   "execution_count": null,
   "id": "a6570072",
   "metadata": {},
   "outputs": [],
   "source": [
    "fig, ax = plt.subplots(constrained_layout=True)\n",
    "ax.hist(latitude)\n",
    "ax.set_xlim(-90, 90);"
   ]
  },
  {
   "cell_type": "code",
   "execution_count": null,
   "id": "58254515",
   "metadata": {},
   "outputs": [],
   "source": [
    "fig.canvas.draw();"
   ]
  },
  {
   "cell_type": "code",
   "execution_count": null,
   "id": "433b78c0",
   "metadata": {},
   "outputs": [],
   "source": [
    "plt.close(fig); del fig, ax;"
   ]
  },
  {
   "cell_type": "code",
   "execution_count": null,
   "id": "b6cb1b1e",
   "metadata": {},
   "outputs": [],
   "source": [
    "fig, ax = plt.subplots(constrained_layout=True)\n",
    "ax.hist(longitude)\n",
    "ax.set_xlim(-180, 180);"
   ]
  },
  {
   "cell_type": "code",
   "execution_count": null,
   "id": "d2cf6def",
   "metadata": {},
   "outputs": [],
   "source": [
    "fig.canvas.draw();"
   ]
  },
  {
   "cell_type": "code",
   "execution_count": null,
   "id": "26ea23c5",
   "metadata": {},
   "outputs": [],
   "source": [
    "plt.close(fig); del fig, ax;"
   ]
  },
  {
   "cell_type": "markdown",
   "id": "0a1a1b0e",
   "metadata": {},
   "source": [
    "https://matplotlib.org/basemap/stable/users/mapsetup.html\n",
    "\n",
    "https://matplotlib.org/basemap/stable/api/basemap_api.html"
   ]
  },
  {
   "cell_type": "code",
   "execution_count": null,
   "id": "5c2fbb4f",
   "metadata": {},
   "outputs": [],
   "source": [
    "%%time\n",
    "fig, ax = plt.subplots(figsize=(6.4*2, 4.8*2), dpi=200)\n",
    "m = Basemap(\n",
    "    projection='robin',\n",
    "    lon_0=0, # central longitude\n",
    "    resolution='c', # crude resolution coastlines\n",
    "#     resolution='l', # low resolution coastlines\n",
    "#     resolution='i', # intermediate resolution coastlines, slower\n",
    ")\n",
    "m.drawcoastlines(color='gray')\n",
    "m.drawcountries(color='lightgray')\n",
    "x, y = m(longitude, latitude)\n",
    "m.scatter(x, y, marker='.', color='black', edgecolors='red', zorder=10)\n",
    "ax.set_title(\"Robinson Projection, {} rounds of A Community World\".format(n_rounds))\n",
    "m.fillcontinents(color='white',lake_color='paleturquoise')\n",
    "# draw parallels and meridians.\n",
    "# m.drawparallels(np.arange(-90.,91.,30.))\n",
    "# m.drawmeridians(np.arange(-180.,181.,60.))\n",
    "m.drawmapboundary(fill_color='paleturquoise');"
   ]
  },
  {
   "cell_type": "code",
   "execution_count": null,
   "id": "30766b89",
   "metadata": {},
   "outputs": [],
   "source": [
    "fig.canvas.draw();"
   ]
  },
  {
   "cell_type": "code",
   "execution_count": null,
   "id": "99f1ab33",
   "metadata": {},
   "outputs": [],
   "source": [
    "fig.savefig(\"map_robinson_with_locations.png\", bbox_inches='tight')\n",
    "fig.savefig(\"map_robinson_with_locations.pdf\", bbox_inches='tight')"
   ]
  },
  {
   "cell_type": "code",
   "execution_count": null,
   "id": "f503bad7",
   "metadata": {},
   "outputs": [],
   "source": [
    "del m, x, y"
   ]
  },
  {
   "cell_type": "code",
   "execution_count": null,
   "id": "94dca776",
   "metadata": {},
   "outputs": [],
   "source": [
    "%%time\n",
    "# plt.figure(figsize=(6.4*2, 4.8*2), dpi=200)\n",
    "fig, ax = plt.subplots(figsize=(6.4*2, 4.8*2), dpi=200)\n",
    "m = Basemap(projection='merc',\n",
    "    llcrnrlat=-80,  # lower left corner latitude\n",
    "    llcrnrlon=-180, # lower left corner longitude\n",
    "    urcrnrlat=80,  # upper right corner latitude\n",
    "    urcrnrlon=180, # upper right corner latitude\n",
    "    lat_ts=20, # latitude of true scale\n",
    "#     resolution='c', # crude resolution coastlines\n",
    "    resolution='l', # low resolution coastlines\n",
    "#     resolution='i', # intermediate resolution coastlines, slower\n",
    ")\n",
    "m.drawcoastlines(color='gray')\n",
    "m.drawcountries(color='lightgray')\n",
    "x, y = m(longitude, latitude)\n",
    "m.scatter(x, y, marker='.', color='black', edgecolors='red', zorder=10)\n",
    "ax.set_title(\"Mercator Projection, {} rounds of A Community World\".format(n_rounds));\n",
    "m.fillcontinents(color='white',lake_color='paleturquoise')\n",
    "# draw parallels and meridians.\n",
    "m.drawparallels(np.arange(-90.,91.,30.))\n",
    "m.drawmeridians(np.arange(-180.,181.,60.))\n",
    "m.drawmapboundary(fill_color='paleturquoise');"
   ]
  },
  {
   "cell_type": "code",
   "execution_count": null,
   "id": "bf94af67",
   "metadata": {},
   "outputs": [],
   "source": [
    "fig.savefig(\"map_mercator_with_locations.png\", bbox_inches='tight')\n",
    "fig.savefig(\"map_mercator_with_locations.pdf\", bbox_inches='tight');"
   ]
  },
  {
   "cell_type": "code",
   "execution_count": null,
   "id": "b0819103",
   "metadata": {},
   "outputs": [],
   "source": [
    "del m, x, y"
   ]
  },
  {
   "cell_type": "code",
   "execution_count": null,
   "id": "6baede28",
   "metadata": {},
   "outputs": [],
   "source": [
    "fig, ax = plt.subplots(constrained_layout=True)\n",
    "ax.scatter(longitude, latitude)\n",
    "ax.set_xlim(-180, 180);\n",
    "ax.set_ylim(-90, 90);"
   ]
  },
  {
   "cell_type": "code",
   "execution_count": null,
   "id": "0f3e3ea1",
   "metadata": {},
   "outputs": [],
   "source": [
    "fig.canvas.draw();"
   ]
  },
  {
   "cell_type": "code",
   "execution_count": null,
   "id": "a63417f6",
   "metadata": {},
   "outputs": [],
   "source": [
    "plt.close(fig); del fig, ax;"
   ]
  },
  {
   "cell_type": "code",
   "execution_count": null,
   "id": "12c20c19",
   "metadata": {},
   "outputs": [],
   "source": [
    "fig, ax = plt.subplots(constrained_layout=True)\n",
    "ax.scatter(latitude, match_status);\n",
    "ax.set_xlim(-90, 90)\n",
    "ax.axvline(0);"
   ]
  },
  {
   "cell_type": "code",
   "execution_count": null,
   "id": "a7d81791",
   "metadata": {},
   "outputs": [],
   "source": [
    "plt.close(fig); del fig, ax;"
   ]
  },
  {
   "cell_type": "code",
   "execution_count": null,
   "id": "04ce3794",
   "metadata": {},
   "outputs": [],
   "source": [
    "image_capture_datetime = [datetime.fromisoformat(val) for val in df['Image capture date']]\n",
    "copyright_year_datetime1 = [datetime.fromisoformat(str(int(val))+'-01-01') for val in df['Copyright year']]\n",
    "copyright_year_datetime2 = [datetime.fromisoformat(str(int(val))+'-12-31') for val in df['Copyright year']]"
   ]
  },
  {
   "cell_type": "code",
   "execution_count": null,
   "id": "6d37ce7b",
   "metadata": {},
   "outputs": [],
   "source": [
    "fig, ax = plt.subplots(figsize=(6.4*1.5, 6.4*1.5))\n",
    "# ax.scatter(image_capture_datetime, copyright_year_datetime1);\n",
    "# ax.scatter(image_capture_datetime, copyright_year_datetime2);\n",
    "ax.plot([image_capture_datetime, image_capture_datetime], [copyright_year_datetime1, copyright_year_datetime2], '.-',\n",
    "    color='black')\n",
    "ax.plot(image_capture_datetime, image_capture_datetime, '-', color='gray', zorder=0, label='unity')\n",
    "xfmt = matplotlib.dates.DateFormatter('%Y-%m')\n",
    "ax.xaxis.set_major_formatter(xfmt)\n",
    "fig.autofmt_xdate();\n",
    "ax.set_aspect('equal')\n",
    "ax.set_xlabel('Image capture date')\n",
    "ax.set_ylabel('Copyright year');\n",
    "# fig.suptitle(\"Copyright watermark and image capture date\")\n",
    "ax.set_title(\"{} rounds of A Community World\".format(n_rounds))\n",
    "ax.legend();"
   ]
  },
  {
   "cell_type": "code",
   "execution_count": null,
   "id": "18fccd94",
   "metadata": {},
   "outputs": [],
   "source": [
    "fig.canvas.draw();"
   ]
  },
  {
   "cell_type": "code",
   "execution_count": null,
   "id": "4cdd44d9",
   "metadata": {},
   "outputs": [],
   "source": [
    "fig.savefig(\n",
    "    \"capture_date_vs_copyright_year.png\",\n",
    "    bbox_inches='tight',\n",
    "    dpi=200,\n",
    "    facecolor=\"w\", # white background\n",
    ");\n",
    "fig.savefig(\n",
    "    \"capture_date_vs_copyright_year.pdf\",\n",
    "    bbox_inches='tight',\n",
    "    dpi=200,\n",
    "    facecolor=\"w\", # white background\n",
    ");"
   ]
  },
  {
   "cell_type": "code",
   "execution_count": null,
   "id": "85cff986",
   "metadata": {},
   "outputs": [],
   "source": [
    "plt.close(fig); del fig, ax;"
   ]
  },
  {
   "cell_type": "code",
   "execution_count": null,
   "id": "4946d0fb",
   "metadata": {},
   "outputs": [],
   "source": [
    "# TODO: pavement materials\n",
    "# TODO: confidence intervals"
   ]
  }
 ],
 "metadata": {
  "kernelspec": {
   "display_name": "Python 3 (ipykernel)",
   "language": "python",
   "name": "python3"
  },
  "language_info": {
   "codemirror_mode": {
    "name": "ipython",
    "version": 3
   },
   "file_extension": ".py",
   "mimetype": "text/x-python",
   "name": "python",
   "nbconvert_exporter": "python",
   "pygments_lexer": "ipython3",
   "version": "3.9.21"
  }
 },
 "nbformat": 4,
 "nbformat_minor": 5
}
